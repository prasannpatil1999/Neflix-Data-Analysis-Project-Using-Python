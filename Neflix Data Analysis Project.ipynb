{
 "cells": [
  {
   "cell_type": "code",
   "execution_count": 1,
   "id": "ea2563da-4623-48b1-8226-e4e67b44553b",
   "metadata": {},
   "outputs": [],
   "source": [
    "import numpy as np\n",
    "import pandas as pd\n",
    "import matplotlib.pyplot as plt\n",
    "import seaborn as sns"
   ]
  },
  {
   "cell_type": "code",
   "execution_count": 2,
   "id": "d2dc49e6-59ca-44c9-b083-04bea47bfc03",
   "metadata": {},
   "outputs": [
    {
     "data": {
      "text/html": [
       "<div>\n",
       "<style scoped>\n",
       "    .dataframe tbody tr th:only-of-type {\n",
       "        vertical-align: middle;\n",
       "    }\n",
       "\n",
       "    .dataframe tbody tr th {\n",
       "        vertical-align: top;\n",
       "    }\n",
       "\n",
       "    .dataframe thead th {\n",
       "        text-align: right;\n",
       "    }\n",
       "</style>\n",
       "<table border=\"1\" class=\"dataframe\">\n",
       "  <thead>\n",
       "    <tr style=\"text-align: right;\">\n",
       "      <th></th>\n",
       "      <th>Release_Date</th>\n",
       "      <th>Title</th>\n",
       "      <th>Overview</th>\n",
       "      <th>Popularity</th>\n",
       "      <th>Vote_Count</th>\n",
       "      <th>Vote_Average</th>\n",
       "      <th>Original_Language</th>\n",
       "      <th>Genre</th>\n",
       "      <th>Poster_Url</th>\n",
       "    </tr>\n",
       "  </thead>\n",
       "  <tbody>\n",
       "    <tr>\n",
       "      <th>0</th>\n",
       "      <td>2021-12-15</td>\n",
       "      <td>Spider-Man: No Way Home</td>\n",
       "      <td>Peter Parker is unmasked and no longer able to...</td>\n",
       "      <td>5083.954</td>\n",
       "      <td>8940</td>\n",
       "      <td>8.3</td>\n",
       "      <td>en</td>\n",
       "      <td>Action, Adventure, Science Fiction</td>\n",
       "      <td>https://image.tmdb.org/t/p/original/1g0dhYtq4i...</td>\n",
       "    </tr>\n",
       "    <tr>\n",
       "      <th>1</th>\n",
       "      <td>2022-03-01</td>\n",
       "      <td>The Batman</td>\n",
       "      <td>In his second year of fighting crime, Batman u...</td>\n",
       "      <td>3827.658</td>\n",
       "      <td>1151</td>\n",
       "      <td>8.1</td>\n",
       "      <td>en</td>\n",
       "      <td>Crime, Mystery, Thriller</td>\n",
       "      <td>https://image.tmdb.org/t/p/original/74xTEgt7R3...</td>\n",
       "    </tr>\n",
       "    <tr>\n",
       "      <th>2</th>\n",
       "      <td>2022-02-25</td>\n",
       "      <td>No Exit</td>\n",
       "      <td>Stranded at a rest stop in the mountains durin...</td>\n",
       "      <td>2618.087</td>\n",
       "      <td>122</td>\n",
       "      <td>6.3</td>\n",
       "      <td>en</td>\n",
       "      <td>Thriller</td>\n",
       "      <td>https://image.tmdb.org/t/p/original/vDHsLnOWKl...</td>\n",
       "    </tr>\n",
       "    <tr>\n",
       "      <th>3</th>\n",
       "      <td>2021-11-24</td>\n",
       "      <td>Encanto</td>\n",
       "      <td>The tale of an extraordinary family, the Madri...</td>\n",
       "      <td>2402.201</td>\n",
       "      <td>5076</td>\n",
       "      <td>7.7</td>\n",
       "      <td>en</td>\n",
       "      <td>Animation, Comedy, Family, Fantasy</td>\n",
       "      <td>https://image.tmdb.org/t/p/original/4j0PNHkMr5...</td>\n",
       "    </tr>\n",
       "    <tr>\n",
       "      <th>4</th>\n",
       "      <td>2021-12-22</td>\n",
       "      <td>The King's Man</td>\n",
       "      <td>As a collection of history's worst tyrants and...</td>\n",
       "      <td>1895.511</td>\n",
       "      <td>1793</td>\n",
       "      <td>7.0</td>\n",
       "      <td>en</td>\n",
       "      <td>Action, Adventure, Thriller, War</td>\n",
       "      <td>https://image.tmdb.org/t/p/original/aq4Pwv5Xeu...</td>\n",
       "    </tr>\n",
       "  </tbody>\n",
       "</table>\n",
       "</div>"
      ],
      "text/plain": [
       "  Release_Date                    Title  \\\n",
       "0   2021-12-15  Spider-Man: No Way Home   \n",
       "1   2022-03-01               The Batman   \n",
       "2   2022-02-25                  No Exit   \n",
       "3   2021-11-24                  Encanto   \n",
       "4   2021-12-22           The King's Man   \n",
       "\n",
       "                                            Overview  Popularity Vote_Count  \\\n",
       "0  Peter Parker is unmasked and no longer able to...    5083.954       8940   \n",
       "1  In his second year of fighting crime, Batman u...    3827.658       1151   \n",
       "2  Stranded at a rest stop in the mountains durin...    2618.087        122   \n",
       "3  The tale of an extraordinary family, the Madri...    2402.201       5076   \n",
       "4  As a collection of history's worst tyrants and...    1895.511       1793   \n",
       "\n",
       "  Vote_Average Original_Language                               Genre  \\\n",
       "0          8.3                en  Action, Adventure, Science Fiction   \n",
       "1          8.1                en            Crime, Mystery, Thriller   \n",
       "2          6.3                en                            Thriller   \n",
       "3          7.7                en  Animation, Comedy, Family, Fantasy   \n",
       "4          7.0                en    Action, Adventure, Thriller, War   \n",
       "\n",
       "                                          Poster_Url  \n",
       "0  https://image.tmdb.org/t/p/original/1g0dhYtq4i...  \n",
       "1  https://image.tmdb.org/t/p/original/74xTEgt7R3...  \n",
       "2  https://image.tmdb.org/t/p/original/vDHsLnOWKl...  \n",
       "3  https://image.tmdb.org/t/p/original/4j0PNHkMr5...  \n",
       "4  https://image.tmdb.org/t/p/original/aq4Pwv5Xeu...  "
      ]
     },
     "execution_count": 2,
     "metadata": {},
     "output_type": "execute_result"
    }
   ],
   "source": [
    "# To display all columns:\n",
    "pd.set_option('display.max_columns', None)  # None means no limit\n",
    "\n",
    "df = pd.read_csv(\"mymoviedb.csv\", engine=\"python\")\n",
    "df.head()"
   ]
  },
  {
   "cell_type": "code",
   "execution_count": 3,
   "id": "1cf6e419-f5fd-4f9f-9374-761289850a28",
   "metadata": {},
   "outputs": [
    {
     "data": {
      "text/plain": [
       "(9837, 9)"
      ]
     },
     "execution_count": 3,
     "metadata": {},
     "output_type": "execute_result"
    }
   ],
   "source": [
    "df.shape"
   ]
  },
  {
   "cell_type": "markdown",
   "id": "e7bb05c4-660b-419b-b0d8-76f2137be129",
   "metadata": {},
   "source": [
    "## <span style=\"color:green\"><b>Checking for null values</b></span>"
   ]
  },
  {
   "cell_type": "code",
   "execution_count": 4,
   "id": "4b0ad102-414a-4268-a743-69ec13575248",
   "metadata": {},
   "outputs": [
    {
     "data": {
      "text/plain": [
       "Release_Date          0\n",
       "Title                 9\n",
       "Overview              9\n",
       "Popularity           10\n",
       "Vote_Count           10\n",
       "Vote_Average         10\n",
       "Original_Language    10\n",
       "Genre                11\n",
       "Poster_Url           11\n",
       "dtype: int64"
      ]
     },
     "execution_count": 4,
     "metadata": {},
     "output_type": "execute_result"
    }
   ],
   "source": [
    "# Checking for null values in columns\n",
    "\n",
    "df.isnull().sum()"
   ]
  },
  {
   "cell_type": "code",
   "execution_count": 5,
   "id": "11d0f6af-3947-4d01-b341-e8eec356b4e8",
   "metadata": {},
   "outputs": [
    {
     "data": {
      "text/html": [
       "<div>\n",
       "<style scoped>\n",
       "    .dataframe tbody tr th:only-of-type {\n",
       "        vertical-align: middle;\n",
       "    }\n",
       "\n",
       "    .dataframe tbody tr th {\n",
       "        vertical-align: top;\n",
       "    }\n",
       "\n",
       "    .dataframe thead th {\n",
       "        text-align: right;\n",
       "    }\n",
       "</style>\n",
       "<table border=\"1\" class=\"dataframe\">\n",
       "  <thead>\n",
       "    <tr style=\"text-align: right;\">\n",
       "      <th></th>\n",
       "      <th>Release_Date</th>\n",
       "      <th>Title</th>\n",
       "      <th>Overview</th>\n",
       "      <th>Popularity</th>\n",
       "      <th>Vote_Count</th>\n",
       "      <th>Vote_Average</th>\n",
       "      <th>Original_Language</th>\n",
       "      <th>Genre</th>\n",
       "      <th>Poster_Url</th>\n",
       "    </tr>\n",
       "  </thead>\n",
       "  <tbody>\n",
       "    <tr>\n",
       "      <th>1105</th>\n",
       "      <td>2013-10-20</td>\n",
       "      <td>Pixie Hollow Bake Off</td>\n",
       "      <td>Tink challenges Gelata to see who can bake the...</td>\n",
       "      <td>NaN</td>\n",
       "      <td>None</td>\n",
       "      <td>None</td>\n",
       "      <td>None</td>\n",
       "      <td>None</td>\n",
       "      <td>None</td>\n",
       "    </tr>\n",
       "    <tr>\n",
       "      <th>1106</th>\n",
       "      <td>- Just Desserts</td>\n",
       "      <td>None</td>\n",
       "      <td>None</td>\n",
       "      <td>NaN</td>\n",
       "      <td>None</td>\n",
       "      <td>None</td>\n",
       "      <td>None</td>\n",
       "      <td>None</td>\n",
       "      <td>None</td>\n",
       "    </tr>\n",
       "    <tr>\n",
       "      <th>1107</th>\n",
       "      <td>- If The Hue Fits</td>\n",
       "      <td>None</td>\n",
       "      <td>None</td>\n",
       "      <td>NaN</td>\n",
       "      <td>None</td>\n",
       "      <td>None</td>\n",
       "      <td>None</td>\n",
       "      <td>None</td>\n",
       "      <td>None</td>\n",
       "    </tr>\n",
       "    <tr>\n",
       "      <th>1108</th>\n",
       "      <td>- Dust Up</td>\n",
       "      <td>None</td>\n",
       "      <td>None</td>\n",
       "      <td>NaN</td>\n",
       "      <td>None</td>\n",
       "      <td>None</td>\n",
       "      <td>None</td>\n",
       "      <td>None</td>\n",
       "      <td>None</td>\n",
       "    </tr>\n",
       "    <tr>\n",
       "      <th>1109</th>\n",
       "      <td>- Scents And Sensibility</td>\n",
       "      <td>None</td>\n",
       "      <td>None</td>\n",
       "      <td>NaN</td>\n",
       "      <td>None</td>\n",
       "      <td>None</td>\n",
       "      <td>None</td>\n",
       "      <td>None</td>\n",
       "      <td>None</td>\n",
       "    </tr>\n",
       "    <tr>\n",
       "      <th>1110</th>\n",
       "      <td>- Just One Of The Girls</td>\n",
       "      <td>None</td>\n",
       "      <td>None</td>\n",
       "      <td>NaN</td>\n",
       "      <td>None</td>\n",
       "      <td>None</td>\n",
       "      <td>None</td>\n",
       "      <td>None</td>\n",
       "      <td>None</td>\n",
       "    </tr>\n",
       "    <tr>\n",
       "      <th>1111</th>\n",
       "      <td>- Volleybug</td>\n",
       "      <td>None</td>\n",
       "      <td>None</td>\n",
       "      <td>NaN</td>\n",
       "      <td>None</td>\n",
       "      <td>None</td>\n",
       "      <td>None</td>\n",
       "      <td>None</td>\n",
       "      <td>None</td>\n",
       "    </tr>\n",
       "    <tr>\n",
       "      <th>1112</th>\n",
       "      <td>- Hide And Tink</td>\n",
       "      <td>None</td>\n",
       "      <td>None</td>\n",
       "      <td>NaN</td>\n",
       "      <td>None</td>\n",
       "      <td>None</td>\n",
       "      <td>None</td>\n",
       "      <td>None</td>\n",
       "      <td>None</td>\n",
       "    </tr>\n",
       "    <tr>\n",
       "      <th>1113</th>\n",
       "      <td>- Rainbow's Ends</td>\n",
       "      <td>None</td>\n",
       "      <td>None</td>\n",
       "      <td>NaN</td>\n",
       "      <td>None</td>\n",
       "      <td>None</td>\n",
       "      <td>None</td>\n",
       "      <td>None</td>\n",
       "      <td>None</td>\n",
       "    </tr>\n",
       "    <tr>\n",
       "      <th>1114</th>\n",
       "      <td>- Fawn And Games</td>\n",
       "      <td>None</td>\n",
       "      <td>None</td>\n",
       "      <td>NaN</td>\n",
       "      <td>None</td>\n",
       "      <td>None</td>\n",
       "      <td>None</td>\n",
       "      <td>None</td>\n",
       "      <td>None</td>\n",
       "    </tr>\n",
       "    <tr>\n",
       "      <th>1115</th>\n",
       "      <td>- Magic Tricks</td>\n",
       "      <td>61.328</td>\n",
       "      <td>35</td>\n",
       "      <td>7.1</td>\n",
       "      <td>en</td>\n",
       "      <td>Animation</td>\n",
       "      <td>https://image.tmdb.org/t/p/original/6iXYe7AkQ1...</td>\n",
       "      <td>None</td>\n",
       "      <td>None</td>\n",
       "    </tr>\n",
       "  </tbody>\n",
       "</table>\n",
       "</div>"
      ],
      "text/plain": [
       "                   Release_Date                  Title  \\\n",
       "1105                 2013-10-20  Pixie Hollow Bake Off   \n",
       "1106            - Just Desserts                   None   \n",
       "1107          - If The Hue Fits                   None   \n",
       "1108                  - Dust Up                   None   \n",
       "1109   - Scents And Sensibility                   None   \n",
       "1110    - Just One Of The Girls                   None   \n",
       "1111                - Volleybug                   None   \n",
       "1112            - Hide And Tink                   None   \n",
       "1113           - Rainbow's Ends                   None   \n",
       "1114           - Fawn And Games                   None   \n",
       "1115             - Magic Tricks                 61.328   \n",
       "\n",
       "                                               Overview  Popularity  \\\n",
       "1105  Tink challenges Gelata to see who can bake the...         NaN   \n",
       "1106                                               None         NaN   \n",
       "1107                                               None         NaN   \n",
       "1108                                               None         NaN   \n",
       "1109                                               None         NaN   \n",
       "1110                                               None         NaN   \n",
       "1111                                               None         NaN   \n",
       "1112                                               None         NaN   \n",
       "1113                                               None         NaN   \n",
       "1114                                               None         NaN   \n",
       "1115                                                 35         7.1   \n",
       "\n",
       "     Vote_Count Vote_Average  \\\n",
       "1105       None         None   \n",
       "1106       None         None   \n",
       "1107       None         None   \n",
       "1108       None         None   \n",
       "1109       None         None   \n",
       "1110       None         None   \n",
       "1111       None         None   \n",
       "1112       None         None   \n",
       "1113       None         None   \n",
       "1114       None         None   \n",
       "1115         en    Animation   \n",
       "\n",
       "                                      Original_Language Genre Poster_Url  \n",
       "1105                                               None  None       None  \n",
       "1106                                               None  None       None  \n",
       "1107                                               None  None       None  \n",
       "1108                                               None  None       None  \n",
       "1109                                               None  None       None  \n",
       "1110                                               None  None       None  \n",
       "1111                                               None  None       None  \n",
       "1112                                               None  None       None  \n",
       "1113                                               None  None       None  \n",
       "1114                                               None  None       None  \n",
       "1115  https://image.tmdb.org/t/p/original/6iXYe7AkQ1...  None       None  "
      ]
     },
     "execution_count": 5,
     "metadata": {},
     "output_type": "execute_result"
    }
   ],
   "source": [
    "df[df.loc[:,\"Poster_Url\"].isnull()]"
   ]
  },
  {
   "cell_type": "markdown",
   "id": "2487f97c-2740-4417-82c8-98c9fea0300d",
   "metadata": {},
   "source": [
    "#### You can observe that these 11 records contain null values so drop these records"
   ]
  },
  {
   "cell_type": "code",
   "execution_count": 6,
   "id": "d7b2e627-670e-460a-984b-c5d9902a34b5",
   "metadata": {},
   "outputs": [
    {
     "data": {
      "text/plain": [
       "(9837, 9)"
      ]
     },
     "execution_count": 6,
     "metadata": {},
     "output_type": "execute_result"
    }
   ],
   "source": [
    "df.shape"
   ]
  },
  {
   "cell_type": "code",
   "execution_count": 7,
   "id": "3698cd2d-0124-4df7-abdb-0ff56d2e7fb9",
   "metadata": {},
   "outputs": [],
   "source": [
    "df.dropna(inplace=True)"
   ]
  },
  {
   "cell_type": "code",
   "execution_count": 8,
   "id": "650e24a7-b4d1-4d35-9dd8-b4f398aba0e8",
   "metadata": {},
   "outputs": [
    {
     "data": {
      "text/plain": [
       "(9826, 9)"
      ]
     },
     "execution_count": 8,
     "metadata": {},
     "output_type": "execute_result"
    }
   ],
   "source": [
    "df.shape"
   ]
  },
  {
   "cell_type": "markdown",
   "id": "ea0dd6be-2e42-48c4-9000-c81d44e51b25",
   "metadata": {},
   "source": [
    "### <span style=\"color:green\"><b> Check for duplicated rows</b></span>"
   ]
  },
  {
   "cell_type": "code",
   "execution_count": 9,
   "id": "554fa0be-fd36-4245-9b03-9cdad470dc4e",
   "metadata": {},
   "outputs": [
    {
     "data": {
      "text/plain": [
       "0"
      ]
     },
     "execution_count": 9,
     "metadata": {},
     "output_type": "execute_result"
    }
   ],
   "source": [
    "df.duplicated().sum()"
   ]
  },
  {
   "cell_type": "markdown",
   "id": "daf1f899-ff52-4f63-b52d-e91926c615f3",
   "metadata": {},
   "source": [
    "### <span style=\"color:green\"><b> Check for valid data type or data</b></span>"
   ]
  },
  {
   "cell_type": "code",
   "execution_count": 10,
   "id": "fdedc53d-b67c-48f8-9975-0a4dd636db50",
   "metadata": {},
   "outputs": [
    {
     "data": {
      "text/html": [
       "<div>\n",
       "<style scoped>\n",
       "    .dataframe tbody tr th:only-of-type {\n",
       "        vertical-align: middle;\n",
       "    }\n",
       "\n",
       "    .dataframe tbody tr th {\n",
       "        vertical-align: top;\n",
       "    }\n",
       "\n",
       "    .dataframe thead th {\n",
       "        text-align: right;\n",
       "    }\n",
       "</style>\n",
       "<table border=\"1\" class=\"dataframe\">\n",
       "  <thead>\n",
       "    <tr style=\"text-align: right;\">\n",
       "      <th></th>\n",
       "      <th>Data_Features</th>\n",
       "      <th>dtype</th>\n",
       "      <th>Null</th>\n",
       "      <th>Null_%</th>\n",
       "      <th>no_of_uni_val</th>\n",
       "      <th>Uni_val_list</th>\n",
       "    </tr>\n",
       "  </thead>\n",
       "  <tbody>\n",
       "    <tr>\n",
       "      <th>1</th>\n",
       "      <td>Release_Date</td>\n",
       "      <td>object</td>\n",
       "      <td>0</td>\n",
       "      <td>0.0</td>\n",
       "      <td>5892</td>\n",
       "      <td>[2021-12-15, 2022-03-01, 2022-02-25, 2021-11-2...</td>\n",
       "    </tr>\n",
       "    <tr>\n",
       "      <th>2</th>\n",
       "      <td>Title</td>\n",
       "      <td>object</td>\n",
       "      <td>0</td>\n",
       "      <td>0.0</td>\n",
       "      <td>9512</td>\n",
       "      <td>[Spider-Man: No Way Home, The Batman, No Exit,...</td>\n",
       "    </tr>\n",
       "    <tr>\n",
       "      <th>3</th>\n",
       "      <td>Overview</td>\n",
       "      <td>object</td>\n",
       "      <td>0</td>\n",
       "      <td>0.0</td>\n",
       "      <td>9821</td>\n",
       "      <td>[Peter Parker is unmasked and no longer able t...</td>\n",
       "    </tr>\n",
       "    <tr>\n",
       "      <th>4</th>\n",
       "      <td>Popularity</td>\n",
       "      <td>float64</td>\n",
       "      <td>0</td>\n",
       "      <td>0.0</td>\n",
       "      <td>8159</td>\n",
       "      <td>[5083.954, 3827.658, 2618.087, 2402.201, 1895....</td>\n",
       "    </tr>\n",
       "    <tr>\n",
       "      <th>5</th>\n",
       "      <td>Vote_Count</td>\n",
       "      <td>object</td>\n",
       "      <td>0</td>\n",
       "      <td>0.0</td>\n",
       "      <td>3266</td>\n",
       "      <td>[8940, 1151, 122, 5076, 1793, 33, 821, 206, 11...</td>\n",
       "    </tr>\n",
       "    <tr>\n",
       "      <th>6</th>\n",
       "      <td>Vote_Average</td>\n",
       "      <td>object</td>\n",
       "      <td>0</td>\n",
       "      <td>0.0</td>\n",
       "      <td>74</td>\n",
       "      <td>[8.3, 8.1, 6.3, 7.7, 7.0, 6.6, 6.8, 5.3, 7.2, ...</td>\n",
       "    </tr>\n",
       "    <tr>\n",
       "      <th>7</th>\n",
       "      <td>Original_Language</td>\n",
       "      <td>object</td>\n",
       "      <td>0</td>\n",
       "      <td>0.0</td>\n",
       "      <td>43</td>\n",
       "      <td>[en, ja, fr, hi, es, ru, de, th, ko, tr, cn, z...</td>\n",
       "    </tr>\n",
       "    <tr>\n",
       "      <th>8</th>\n",
       "      <td>Genre</td>\n",
       "      <td>object</td>\n",
       "      <td>0</td>\n",
       "      <td>0.0</td>\n",
       "      <td>2337</td>\n",
       "      <td>[Action, Adventure, Science Fiction, Crime, My...</td>\n",
       "    </tr>\n",
       "    <tr>\n",
       "      <th>9</th>\n",
       "      <td>Poster_Url</td>\n",
       "      <td>object</td>\n",
       "      <td>0</td>\n",
       "      <td>0.0</td>\n",
       "      <td>9826</td>\n",
       "      <td>[https://image.tmdb.org/t/p/original/1g0dhYtq4...</td>\n",
       "    </tr>\n",
       "  </tbody>\n",
       "</table>\n",
       "</div>"
      ],
      "text/plain": [
       "       Data_Features    dtype  Null  Null_%  no_of_uni_val  \\\n",
       "1       Release_Date   object     0     0.0           5892   \n",
       "2              Title   object     0     0.0           9512   \n",
       "3           Overview   object     0     0.0           9821   \n",
       "4         Popularity  float64     0     0.0           8159   \n",
       "5         Vote_Count   object     0     0.0           3266   \n",
       "6       Vote_Average   object     0     0.0             74   \n",
       "7  Original_Language   object     0     0.0             43   \n",
       "8              Genre   object     0     0.0           2337   \n",
       "9         Poster_Url   object     0     0.0           9826   \n",
       "\n",
       "                                        Uni_val_list  \n",
       "1  [2021-12-15, 2022-03-01, 2022-02-25, 2021-11-2...  \n",
       "2  [Spider-Man: No Way Home, The Batman, No Exit,...  \n",
       "3  [Peter Parker is unmasked and no longer able t...  \n",
       "4  [5083.954, 3827.658, 2618.087, 2402.201, 1895....  \n",
       "5  [8940, 1151, 122, 5076, 1793, 33, 821, 206, 11...  \n",
       "6  [8.3, 8.1, 6.3, 7.7, 7.0, 6.6, 6.8, 5.3, 7.2, ...  \n",
       "7  [en, ja, fr, hi, es, ru, de, th, ko, tr, cn, z...  \n",
       "8  [Action, Adventure, Science Fiction, Crime, My...  \n",
       "9  [https://image.tmdb.org/t/p/original/1g0dhYtq4...  "
      ]
     },
     "execution_count": 10,
     "metadata": {},
     "output_type": "execute_result"
    }
   ],
   "source": [
    "# code to check no of unique values in a column and list them\n",
    "num_list = [] # Generate a empty list to store feature index no in future\n",
    "num = 0\n",
    "\n",
    "cols_desc = [] # an empty list\n",
    "for col in df.columns: # Iterate over cols\n",
    "    num += 1\n",
    "    num_list.append(num)\n",
    "    cols_desc.append([col, df[col].dtypes,df[col].isna().sum(),np.round(df.loc[:,col].isnull().sum() /  len(df), 10) * 100,df[col].nunique(),\n",
    "     df[col].unique()])\n",
    "\n",
    "desc = pd.DataFrame(data=cols_desc,index=num_list,columns=['Data_Features','dtype','Null','Null_%','no_of_uni_val','Uni_val_list'])\n",
    "\n",
    "desc"
   ]
  },
  {
   "cell_type": "markdown",
   "id": "6744b099-0ca6-4a21-9d38-02527e8e9a88",
   "metadata": {},
   "source": [
    "### NOTE:\n",
    "- Release_Date col is Object data type has to be changed to datetime data type\n",
    "- From Release_Date col we have to generate 3 cols one each for day, month and year\n",
    "\n",
    "- Vote_Count col must be converted to int from object data type\n",
    "- Vote_Avergaet col must be converted to float from object data type\n",
    "- Poster_Url is such unncessary col drop it\n",
    "- Original_Language is such unncessary col drop it\n",
    "- Overview is such unncessary col drop it"
   ]
  },
  {
   "cell_type": "markdown",
   "id": "b83ef0c9-07e7-4ceb-843a-f7c06404f5f4",
   "metadata": {},
   "source": [
    "### <span style=\"color:green\"><b> Converting columns from one data type to another</b></span>"
   ]
  },
  {
   "cell_type": "code",
   "execution_count": 11,
   "id": "5dcad039-8e26-4d52-bb54-74f32540f71c",
   "metadata": {},
   "outputs": [
    {
     "data": {
      "text/plain": [
       "Index(['Release_Date', 'Title', 'Overview', 'Popularity', 'Vote_Count',\n",
       "       'Vote_Average', 'Original_Language', 'Genre', 'Poster_Url'],\n",
       "      dtype='object')"
      ]
     },
     "execution_count": 11,
     "metadata": {},
     "output_type": "execute_result"
    }
   ],
   "source": [
    "df.columns"
   ]
  },
  {
   "cell_type": "code",
   "execution_count": 12,
   "id": "de3edd9e-5fc4-4175-a61a-49167f6c8058",
   "metadata": {},
   "outputs": [],
   "source": [
    "# Convert to datetime format\n",
    "df['Release_Date'] = pd.to_datetime(df['Release_Date'])"
   ]
  },
  {
   "cell_type": "code",
   "execution_count": 13,
   "id": "ce9be520-327d-4abd-8414-a0cd89440b40",
   "metadata": {},
   "outputs": [],
   "source": [
    "# Convert to int format\n",
    "df['Vote_Count'] = df['Vote_Count'].astype(\"int\")\n",
    "\n",
    "# Convert to float format\n",
    "df['Vote_Average'] = df['Vote_Average'].astype(\"float\")"
   ]
  },
  {
   "cell_type": "code",
   "execution_count": 14,
   "id": "b784925b-310c-41c2-b50b-d05a0d70ba18",
   "metadata": {},
   "outputs": [
    {
     "data": {
      "text/plain": [
       "Release_Date         datetime64[ns]\n",
       "Title                        object\n",
       "Overview                     object\n",
       "Popularity                  float64\n",
       "Vote_Count                    int32\n",
       "Vote_Average                float64\n",
       "Original_Language            object\n",
       "Genre                        object\n",
       "Poster_Url                   object\n",
       "dtype: object"
      ]
     },
     "execution_count": 14,
     "metadata": {},
     "output_type": "execute_result"
    }
   ],
   "source": [
    "df.dtypes"
   ]
  },
  {
   "cell_type": "markdown",
   "id": "07a161a8-f73b-4ca3-afcb-e3944ab79b25",
   "metadata": {},
   "source": [
    "### <span style=\"color:green\"><b>Dropping columns</b></span>"
   ]
  },
  {
   "cell_type": "code",
   "execution_count": 15,
   "id": "3cb1eb58-c014-4c18-a3c8-15d94c2861b7",
   "metadata": {},
   "outputs": [
    {
     "data": {
      "text/plain": [
       "(9826, 9)"
      ]
     },
     "execution_count": 15,
     "metadata": {},
     "output_type": "execute_result"
    }
   ],
   "source": [
    "df.shape"
   ]
  },
  {
   "cell_type": "code",
   "execution_count": 16,
   "id": "bb32422b-b400-438d-b7e2-798f8e3d93dd",
   "metadata": {},
   "outputs": [],
   "source": [
    "# making list of column to be dropped\n",
    "drop_cols = ['Overview', 'Original_Language', 'Poster_Url']"
   ]
  },
  {
   "cell_type": "code",
   "execution_count": 17,
   "id": "a9983d5b-816c-421f-8414-81f430ca27a1",
   "metadata": {},
   "outputs": [],
   "source": [
    "df.drop(drop_cols,axis=1,inplace=True)"
   ]
  },
  {
   "cell_type": "code",
   "execution_count": 18,
   "id": "feee1998-05a2-4566-808a-138b540726de",
   "metadata": {},
   "outputs": [
    {
     "data": {
      "text/plain": [
       "(9826, 6)"
      ]
     },
     "execution_count": 18,
     "metadata": {},
     "output_type": "execute_result"
    }
   ],
   "source": [
    "df.shape"
   ]
  },
  {
   "cell_type": "markdown",
   "id": "3600b776-d2ef-4a3d-8a8a-5ae6ba810f4e",
   "metadata": {},
   "source": [
    "### <span style=\"color:green\"><b> Creating new columns from already existing</b></span>"
   ]
  },
  {
   "cell_type": "code",
   "execution_count": 19,
   "id": "ec1ebeb7-dff4-4709-844e-029c50fcd84e",
   "metadata": {},
   "outputs": [],
   "source": [
    "# Extract Day, Month, and Year\n",
    "df['Day'] = df['Release_Date'].dt.day\n",
    "df['Month'] = df['Release_Date'].dt.month\n",
    "df['Year'] = df['Release_Date'].dt.year"
   ]
  },
  {
   "cell_type": "code",
   "execution_count": 20,
   "id": "d402ae2c-a77e-446a-bb62-4eab99604d31",
   "metadata": {},
   "outputs": [
    {
     "data": {
      "text/plain": [
       "Index(['Release_Date', 'Title', 'Popularity', 'Vote_Count', 'Vote_Average',\n",
       "       'Genre', 'Day', 'Month', 'Year'],\n",
       "      dtype='object')"
      ]
     },
     "execution_count": 20,
     "metadata": {},
     "output_type": "execute_result"
    }
   ],
   "source": [
    "df.columns"
   ]
  },
  {
   "cell_type": "markdown",
   "id": "8a275b52-0103-4893-a915-d63567d90e58",
   "metadata": {},
   "source": [
    "### Convert the Genre String into a List"
   ]
  },
  {
   "cell_type": "markdown",
   "id": "550fcab3-d955-4bd7-8665-2b81ee72fe82",
   "metadata": {},
   "source": [
    "- <b> Movie A has Genre of\t\"Drama, Horror, Thriller, Science Fiction\"\n",
    "- The str.split(', ') function splits the genres at the comma (, ) and converts them into a list.\n",
    "- Movie A\t['Drama', 'Horror', 'Thriller', 'Science Fiction']"
   ]
  },
  {
   "cell_type": "code",
   "execution_count": 21,
   "id": "7a8a0a9f-5a81-4a86-94be-abdce51bc140",
   "metadata": {},
   "outputs": [],
   "source": [
    "df['Genre'] = df['Genre'].str.split(', ')"
   ]
  },
  {
   "cell_type": "markdown",
   "id": "6637d17b-0bde-4c90-898d-c962df8e0490",
   "metadata": {},
   "source": [
    "### Explode the List into Separate Rows"
   ]
  },
  {
   "cell_type": "markdown",
   "id": "feac4499-5693-435f-87c9-2668b6dabc5c",
   "metadata": {},
   "source": [
    "- Movie A:\tDrama\n",
    "- Movie A:\tHorror\n",
    "- Movie A:\tThriller\n",
    "- Movie A:\tScience Fiction"
   ]
  },
  {
   "cell_type": "code",
   "execution_count": 22,
   "id": "6a922a2a-8e94-49f3-a550-2a096de6e2aa",
   "metadata": {},
   "outputs": [],
   "source": [
    "df = df.explode('Genre').reset_index(drop=True)"
   ]
  },
  {
   "cell_type": "code",
   "execution_count": 23,
   "id": "0d2b17ae-f460-44ef-8b4a-45fdc661a69a",
   "metadata": {},
   "outputs": [
    {
     "data": {
      "text/html": [
       "<div>\n",
       "<style scoped>\n",
       "    .dataframe tbody tr th:only-of-type {\n",
       "        vertical-align: middle;\n",
       "    }\n",
       "\n",
       "    .dataframe tbody tr th {\n",
       "        vertical-align: top;\n",
       "    }\n",
       "\n",
       "    .dataframe thead th {\n",
       "        text-align: right;\n",
       "    }\n",
       "</style>\n",
       "<table border=\"1\" class=\"dataframe\">\n",
       "  <thead>\n",
       "    <tr style=\"text-align: right;\">\n",
       "      <th></th>\n",
       "      <th>Release_Date</th>\n",
       "      <th>Title</th>\n",
       "      <th>Popularity</th>\n",
       "      <th>Vote_Count</th>\n",
       "      <th>Vote_Average</th>\n",
       "      <th>Genre</th>\n",
       "      <th>Day</th>\n",
       "      <th>Month</th>\n",
       "      <th>Year</th>\n",
       "    </tr>\n",
       "  </thead>\n",
       "  <tbody>\n",
       "    <tr>\n",
       "      <th>0</th>\n",
       "      <td>2021-12-15</td>\n",
       "      <td>Spider-Man: No Way Home</td>\n",
       "      <td>5083.954</td>\n",
       "      <td>8940</td>\n",
       "      <td>8.3</td>\n",
       "      <td>Action</td>\n",
       "      <td>15</td>\n",
       "      <td>12</td>\n",
       "      <td>2021</td>\n",
       "    </tr>\n",
       "    <tr>\n",
       "      <th>1</th>\n",
       "      <td>2021-12-15</td>\n",
       "      <td>Spider-Man: No Way Home</td>\n",
       "      <td>5083.954</td>\n",
       "      <td>8940</td>\n",
       "      <td>8.3</td>\n",
       "      <td>Adventure</td>\n",
       "      <td>15</td>\n",
       "      <td>12</td>\n",
       "      <td>2021</td>\n",
       "    </tr>\n",
       "    <tr>\n",
       "      <th>2</th>\n",
       "      <td>2021-12-15</td>\n",
       "      <td>Spider-Man: No Way Home</td>\n",
       "      <td>5083.954</td>\n",
       "      <td>8940</td>\n",
       "      <td>8.3</td>\n",
       "      <td>Science Fiction</td>\n",
       "      <td>15</td>\n",
       "      <td>12</td>\n",
       "      <td>2021</td>\n",
       "    </tr>\n",
       "    <tr>\n",
       "      <th>3</th>\n",
       "      <td>2022-03-01</td>\n",
       "      <td>The Batman</td>\n",
       "      <td>3827.658</td>\n",
       "      <td>1151</td>\n",
       "      <td>8.1</td>\n",
       "      <td>Crime</td>\n",
       "      <td>1</td>\n",
       "      <td>3</td>\n",
       "      <td>2022</td>\n",
       "    </tr>\n",
       "    <tr>\n",
       "      <th>4</th>\n",
       "      <td>2022-03-01</td>\n",
       "      <td>The Batman</td>\n",
       "      <td>3827.658</td>\n",
       "      <td>1151</td>\n",
       "      <td>8.1</td>\n",
       "      <td>Mystery</td>\n",
       "      <td>1</td>\n",
       "      <td>3</td>\n",
       "      <td>2022</td>\n",
       "    </tr>\n",
       "  </tbody>\n",
       "</table>\n",
       "</div>"
      ],
      "text/plain": [
       "  Release_Date                    Title  Popularity  Vote_Count  Vote_Average  \\\n",
       "0   2021-12-15  Spider-Man: No Way Home    5083.954        8940           8.3   \n",
       "1   2021-12-15  Spider-Man: No Way Home    5083.954        8940           8.3   \n",
       "2   2021-12-15  Spider-Man: No Way Home    5083.954        8940           8.3   \n",
       "3   2022-03-01               The Batman    3827.658        1151           8.1   \n",
       "4   2022-03-01               The Batman    3827.658        1151           8.1   \n",
       "\n",
       "             Genre  Day  Month  Year  \n",
       "0           Action   15     12  2021  \n",
       "1        Adventure   15     12  2021  \n",
       "2  Science Fiction   15     12  2021  \n",
       "3            Crime    1      3  2022  \n",
       "4          Mystery    1      3  2022  "
      ]
     },
     "execution_count": 23,
     "metadata": {},
     "output_type": "execute_result"
    }
   ],
   "source": [
    "df.head()"
   ]
  },
  {
   "cell_type": "code",
   "execution_count": 24,
   "id": "0432a9ee-f3d9-408c-9792-54f01d4c114e",
   "metadata": {},
   "outputs": [
    {
     "data": {
      "text/plain": [
       "dtype('O')"
      ]
     },
     "execution_count": 24,
     "metadata": {},
     "output_type": "execute_result"
    }
   ],
   "source": [
    "df.loc[:,\"Genre\"].dtype"
   ]
  },
  {
   "cell_type": "code",
   "execution_count": 25,
   "id": "fa82bc83-c2c7-4d55-bad4-7be1ca82c14c",
   "metadata": {},
   "outputs": [
    {
     "data": {
      "text/plain": [
       "CategoricalDtype(categories=['Action', 'Adventure', 'Animation', 'Comedy', 'Crime',\n",
       "                  'Documentary', 'Drama', 'Family', 'Fantasy', 'History',\n",
       "                  'Horror', 'Music', 'Mystery', 'Romance', 'Science Fiction',\n",
       "                  'TV Movie', 'Thriller', 'War', 'Western'],\n",
       ", ordered=False, categories_dtype=object)"
      ]
     },
     "execution_count": 25,
     "metadata": {},
     "output_type": "execute_result"
    }
   ],
   "source": [
    "# casting column into category\n",
    "df['Genre'] = df['Genre'].astype('category')\n",
    "# confirming changes\n",
    "df['Genre'].dtypes"
   ]
  },
  {
   "cell_type": "code",
   "execution_count": 26,
   "id": "7094983f-9870-4c5b-8694-d1cc77d2de5e",
   "metadata": {},
   "outputs": [
    {
     "data": {
      "text/plain": [
       "(25792, 9)"
      ]
     },
     "execution_count": 26,
     "metadata": {},
     "output_type": "execute_result"
    }
   ],
   "source": [
    "df.shape"
   ]
  },
  {
   "cell_type": "markdown",
   "id": "f7a27aae-5755-41c1-a500-ed3794d2bcd6",
   "metadata": {},
   "source": [
    "### <span style=\"color:red\"><b> Q1: What is the most frequent genre in the dataset?</b></span>"
   ]
  },
  {
   "cell_type": "code",
   "execution_count": 27,
   "id": "3a9cecf5-724d-4d9f-8689-44575c5e1b1c",
   "metadata": {},
   "outputs": [
    {
     "data": {
      "text/plain": [
       "19"
      ]
     },
     "execution_count": 27,
     "metadata": {},
     "output_type": "execute_result"
    }
   ],
   "source": [
    "df.loc[:, \"Genre\"].nunique()"
   ]
  },
  {
   "cell_type": "code",
   "execution_count": 28,
   "id": "5d7e13cb-22e7-4b19-8239-f777ffb641e0",
   "metadata": {},
   "outputs": [
    {
     "data": {
      "image/png": "[encoded data removed]",
      "text/plain": [
       "<Figure size 511.111x500 with 1 Axes>"
      ]
     },
     "metadata": {},
     "output_type": "display_data"
    }
   ],
   "source": [
    "g = sns.catplot(x= \"Genre\",kind=\"count\",data=df,order=df['Genre'].value_counts().index)\n",
    "plt.grid(axis=\"y\")\n",
    "plt.xticks(rotation=270)\n",
    "\n",
    "# Add labels on top of bars\n",
    "ax = g.ax  # Get the axes from the FacetGrid\n",
    "for container in ax.containers:\n",
    "    ax.bar_label(container, fmt=\"%.0f\", label_type=\"edge\", fontsize=12, color='black', padding=3, rotation=90)\n",
    "    \n",
    "plt.show()"
   ]
  },
  {
   "cell_type": "markdown",
   "id": "2d125018-88df-423c-b83a-f16d87828f84",
   "metadata": {},
   "source": [
    "- we can notice from the above visual that Drama genre is the most frequent genre\n",
    "in our dataset and has appeared more than 14% of the times among 19 other\n",
    "genres"
   ]
  },
  {
   "cell_type": "markdown",
   "id": "9bc9394e-08c3-4727-b457-ffd7f49fd419",
   "metadata": {},
   "source": [
    "### <span style=\"color:red\"><b> Q2: What genres has highest votes ?</b></span>"
   ]
  },
  {
   "cell_type": "code",
   "execution_count": 29,
   "id": "1965b715-4a73-4624-b4b2-6ce87c030bd0",
   "metadata": {},
   "outputs": [
    {
     "data": {
      "text/plain": [
       "Index(['Release_Date', 'Title', 'Popularity', 'Vote_Count', 'Vote_Average',\n",
       "       'Genre', 'Day', 'Month', 'Year'],\n",
       "      dtype='object')"
      ]
     },
     "execution_count": 29,
     "metadata": {},
     "output_type": "execute_result"
    }
   ],
   "source": [
    "df.columns"
   ]
  },
  {
   "cell_type": "code",
   "execution_count": 30,
   "id": "e4250fb4-731a-48e8-96b1-c0f5130a23c3",
   "metadata": {},
   "outputs": [
    {
     "data": {
      "image/png": "[encoded data removed]",
      "text/plain": [
       "<Figure size 511.111x500 with 1 Axes>"
      ]
     },
     "metadata": {},
     "output_type": "display_data"
    }
   ],
   "source": [
    "g = sns.catplot(x= \"Genre\",y=\"Vote_Count\",kind=\"bar\",data=df,errorbar=None,estimator=np.sum)\n",
    "plt.grid(axis=\"y\")\n",
    "plt.xticks(rotation=270)\n",
    "\n",
    "# Add labels on top of bars\n",
    "ax = g.ax  # Get the axes from the FacetGrid\n",
    "for container in ax.containers:\n",
    "    ax.bar_label(container, fmt=\"%.0f\", label_type=\"edge\", fontsize=12, color='black', padding=3, rotation=90)\n",
    "    \n",
    "plt.show()"
   ]
  },
  {
   "cell_type": "markdown",
   "id": "7412b729-9dbf-478b-85fa-945a4425a7b7",
   "metadata": {},
   "source": [
    "- Drama Genre has the most vote count"
   ]
  },
  {
   "cell_type": "markdown",
   "id": "338698c9-fb6e-4c91-be3e-290fba3dbdaf",
   "metadata": {},
   "source": [
    "### <span style=\"color:red\"><b> Q3: What movie got the highest popularity ? what's its genre ?</b></span>"
   ]
  },
  {
   "cell_type": "code",
   "execution_count": 31,
   "id": "8c536414-9764-4dd6-adae-16f7d8814039",
   "metadata": {},
   "outputs": [
    {
     "data": {
      "text/plain": [
       "Index(['Release_Date', 'Title', 'Popularity', 'Vote_Count', 'Vote_Average',\n",
       "       'Genre', 'Day', 'Month', 'Year'],\n",
       "      dtype='object')"
      ]
     },
     "execution_count": 31,
     "metadata": {},
     "output_type": "execute_result"
    }
   ],
   "source": [
    "df.columns"
   ]
  },
  {
   "cell_type": "code",
   "execution_count": 34,
   "id": "56e9fb83-ea90-4ab3-9a31-1c8273ea80f4",
   "metadata": {},
   "outputs": [
    {
     "data": {
      "text/plain": [
       "dtype('float64')"
      ]
     },
     "execution_count": 34,
     "metadata": {},
     "output_type": "execute_result"
    }
   ],
   "source": [
    "df.loc[:,\"Popularity\"].dtype"
   ]
  },
  {
   "cell_type": "code",
   "execution_count": 33,
   "id": "2ea34141-a20e-46e6-b27b-0aa6afe7c394",
   "metadata": {},
   "outputs": [
    {
     "data": {
      "text/plain": [
       "5083.954"
      ]
     },
     "execution_count": 33,
     "metadata": {},
     "output_type": "execute_result"
    }
   ],
   "source": [
    "df.loc[:,\"Popularity\"].max()"
   ]
  },
  {
   "cell_type": "code",
   "execution_count": 38,
   "id": "65c530a5-7972-47d9-acb3-19d35b19cc16",
   "metadata": {},
   "outputs": [
    {
     "data": {
      "text/html": [
       "<div>\n",
       "<style scoped>\n",
       "    .dataframe tbody tr th:only-of-type {\n",
       "        vertical-align: middle;\n",
       "    }\n",
       "\n",
       "    .dataframe tbody tr th {\n",
       "        vertical-align: top;\n",
       "    }\n",
       "\n",
       "    .dataframe thead th {\n",
       "        text-align: right;\n",
       "    }\n",
       "</style>\n",
       "<table border=\"1\" class=\"dataframe\">\n",
       "  <thead>\n",
       "    <tr style=\"text-align: right;\">\n",
       "      <th></th>\n",
       "      <th>Release_Date</th>\n",
       "      <th>Title</th>\n",
       "      <th>Popularity</th>\n",
       "      <th>Vote_Count</th>\n",
       "      <th>Vote_Average</th>\n",
       "      <th>Genre</th>\n",
       "      <th>Day</th>\n",
       "      <th>Month</th>\n",
       "      <th>Year</th>\n",
       "    </tr>\n",
       "  </thead>\n",
       "  <tbody>\n",
       "    <tr>\n",
       "      <th>0</th>\n",
       "      <td>2021-12-15</td>\n",
       "      <td>Spider-Man: No Way Home</td>\n",
       "      <td>5083.954</td>\n",
       "      <td>8940</td>\n",
       "      <td>8.3</td>\n",
       "      <td>Action</td>\n",
       "      <td>15</td>\n",
       "      <td>12</td>\n",
       "      <td>2021</td>\n",
       "    </tr>\n",
       "    <tr>\n",
       "      <th>1</th>\n",
       "      <td>2021-12-15</td>\n",
       "      <td>Spider-Man: No Way Home</td>\n",
       "      <td>5083.954</td>\n",
       "      <td>8940</td>\n",
       "      <td>8.3</td>\n",
       "      <td>Adventure</td>\n",
       "      <td>15</td>\n",
       "      <td>12</td>\n",
       "      <td>2021</td>\n",
       "    </tr>\n",
       "    <tr>\n",
       "      <th>2</th>\n",
       "      <td>2021-12-15</td>\n",
       "      <td>Spider-Man: No Way Home</td>\n",
       "      <td>5083.954</td>\n",
       "      <td>8940</td>\n",
       "      <td>8.3</td>\n",
       "      <td>Science Fiction</td>\n",
       "      <td>15</td>\n",
       "      <td>12</td>\n",
       "      <td>2021</td>\n",
       "    </tr>\n",
       "  </tbody>\n",
       "</table>\n",
       "</div>"
      ],
      "text/plain": [
       "  Release_Date                    Title  Popularity  Vote_Count  Vote_Average  \\\n",
       "0   2021-12-15  Spider-Man: No Way Home    5083.954        8940           8.3   \n",
       "1   2021-12-15  Spider-Man: No Way Home    5083.954        8940           8.3   \n",
       "2   2021-12-15  Spider-Man: No Way Home    5083.954        8940           8.3   \n",
       "\n",
       "             Genre  Day  Month  Year  \n",
       "0           Action   15     12  2021  \n",
       "1        Adventure   15     12  2021  \n",
       "2  Science Fiction   15     12  2021  "
      ]
     },
     "execution_count": 38,
     "metadata": {},
     "output_type": "execute_result"
    }
   ],
   "source": [
    "df[df.loc[:,\"Popularity\"] == df.loc[:,\"Popularity\"].max()]"
   ]
  },
  {
   "cell_type": "code",
   "execution_count": 40,
   "id": "46e7c608-9821-420b-84f3-24faef2af0aa",
   "metadata": {},
   "outputs": [
    {
     "data": {
      "text/html": [
       "<div>\n",
       "<style scoped>\n",
       "    .dataframe tbody tr th:only-of-type {\n",
       "        vertical-align: middle;\n",
       "    }\n",
       "\n",
       "    .dataframe tbody tr th {\n",
       "        vertical-align: top;\n",
       "    }\n",
       "\n",
       "    .dataframe thead th {\n",
       "        text-align: right;\n",
       "    }\n",
       "</style>\n",
       "<table border=\"1\" class=\"dataframe\">\n",
       "  <thead>\n",
       "    <tr style=\"text-align: right;\">\n",
       "      <th></th>\n",
       "      <th>Title</th>\n",
       "      <th>Genre</th>\n",
       "    </tr>\n",
       "  </thead>\n",
       "  <tbody>\n",
       "    <tr>\n",
       "      <th>0</th>\n",
       "      <td>Spider-Man: No Way Home</td>\n",
       "      <td>Action</td>\n",
       "    </tr>\n",
       "    <tr>\n",
       "      <th>1</th>\n",
       "      <td>Spider-Man: No Way Home</td>\n",
       "      <td>Adventure</td>\n",
       "    </tr>\n",
       "    <tr>\n",
       "      <th>2</th>\n",
       "      <td>Spider-Man: No Way Home</td>\n",
       "      <td>Science Fiction</td>\n",
       "    </tr>\n",
       "  </tbody>\n",
       "</table>\n",
       "</div>"
      ],
      "text/plain": [
       "                     Title            Genre\n",
       "0  Spider-Man: No Way Home           Action\n",
       "1  Spider-Man: No Way Home        Adventure\n",
       "2  Spider-Man: No Way Home  Science Fiction"
      ]
     },
     "execution_count": 40,
     "metadata": {},
     "output_type": "execute_result"
    }
   ],
   "source": [
    "df[df.loc[:,\"Popularity\"] == df.loc[:,\"Popularity\"].max()][[\"Title\",\"Genre\"]]"
   ]
  },
  {
   "cell_type": "markdown",
   "id": "f15e825a-2262-4ebc-9546-614747704219",
   "metadata": {},
   "source": [
    "- Spider-Man: No Way Home has the highest popularity rate in our dataset and it has\n",
    "genres of Action , Adventure and Sience Fiction ."
   ]
  },
  {
   "cell_type": "markdown",
   "id": "9f9d85e9-c7bc-4f82-af89-6f824b4bebe6",
   "metadata": {},
   "source": [
    "### <span style=\"color:red\"><b> Q4: What movie got the lowest popularity? what's its genre?</b></span>"
   ]
  },
  {
   "cell_type": "code",
   "execution_count": 42,
   "id": "8abdff4e-0833-40fd-ad3b-a6662ab41680",
   "metadata": {},
   "outputs": [
    {
     "data": {
      "text/plain": [
       "13.354"
      ]
     },
     "execution_count": 42,
     "metadata": {},
     "output_type": "execute_result"
    }
   ],
   "source": [
    "df.loc[:,\"Popularity\"].min()"
   ]
  },
  {
   "cell_type": "code",
   "execution_count": 44,
   "id": "1e6b8e7e-c5ac-4160-8fba-9c7a3ea7ad4b",
   "metadata": {},
   "outputs": [
    {
     "data": {
      "text/html": [
       "<div>\n",
       "<style scoped>\n",
       "    .dataframe tbody tr th:only-of-type {\n",
       "        vertical-align: middle;\n",
       "    }\n",
       "\n",
       "    .dataframe tbody tr th {\n",
       "        vertical-align: top;\n",
       "    }\n",
       "\n",
       "    .dataframe thead th {\n",
       "        text-align: right;\n",
       "    }\n",
       "</style>\n",
       "<table border=\"1\" class=\"dataframe\">\n",
       "  <thead>\n",
       "    <tr style=\"text-align: right;\">\n",
       "      <th></th>\n",
       "      <th>Release_Date</th>\n",
       "      <th>Title</th>\n",
       "      <th>Popularity</th>\n",
       "      <th>Vote_Count</th>\n",
       "      <th>Vote_Average</th>\n",
       "      <th>Genre</th>\n",
       "      <th>Day</th>\n",
       "      <th>Month</th>\n",
       "      <th>Year</th>\n",
       "    </tr>\n",
       "  </thead>\n",
       "  <tbody>\n",
       "    <tr>\n",
       "      <th>25786</th>\n",
       "      <td>2021-03-31</td>\n",
       "      <td>The United States vs. Billie Holiday</td>\n",
       "      <td>13.354</td>\n",
       "      <td>152</td>\n",
       "      <td>6.7</td>\n",
       "      <td>Music</td>\n",
       "      <td>31</td>\n",
       "      <td>3</td>\n",
       "      <td>2021</td>\n",
       "    </tr>\n",
       "    <tr>\n",
       "      <th>25787</th>\n",
       "      <td>2021-03-31</td>\n",
       "      <td>The United States vs. Billie Holiday</td>\n",
       "      <td>13.354</td>\n",
       "      <td>152</td>\n",
       "      <td>6.7</td>\n",
       "      <td>Drama</td>\n",
       "      <td>31</td>\n",
       "      <td>3</td>\n",
       "      <td>2021</td>\n",
       "    </tr>\n",
       "    <tr>\n",
       "      <th>25788</th>\n",
       "      <td>2021-03-31</td>\n",
       "      <td>The United States vs. Billie Holiday</td>\n",
       "      <td>13.354</td>\n",
       "      <td>152</td>\n",
       "      <td>6.7</td>\n",
       "      <td>History</td>\n",
       "      <td>31</td>\n",
       "      <td>3</td>\n",
       "      <td>2021</td>\n",
       "    </tr>\n",
       "    <tr>\n",
       "      <th>25789</th>\n",
       "      <td>1984-09-23</td>\n",
       "      <td>Threads</td>\n",
       "      <td>13.354</td>\n",
       "      <td>186</td>\n",
       "      <td>7.8</td>\n",
       "      <td>War</td>\n",
       "      <td>23</td>\n",
       "      <td>9</td>\n",
       "      <td>1984</td>\n",
       "    </tr>\n",
       "    <tr>\n",
       "      <th>25790</th>\n",
       "      <td>1984-09-23</td>\n",
       "      <td>Threads</td>\n",
       "      <td>13.354</td>\n",
       "      <td>186</td>\n",
       "      <td>7.8</td>\n",
       "      <td>Drama</td>\n",
       "      <td>23</td>\n",
       "      <td>9</td>\n",
       "      <td>1984</td>\n",
       "    </tr>\n",
       "    <tr>\n",
       "      <th>25791</th>\n",
       "      <td>1984-09-23</td>\n",
       "      <td>Threads</td>\n",
       "      <td>13.354</td>\n",
       "      <td>186</td>\n",
       "      <td>7.8</td>\n",
       "      <td>Science Fiction</td>\n",
       "      <td>23</td>\n",
       "      <td>9</td>\n",
       "      <td>1984</td>\n",
       "    </tr>\n",
       "  </tbody>\n",
       "</table>\n",
       "</div>"
      ],
      "text/plain": [
       "      Release_Date                                 Title  Popularity  \\\n",
       "25786   2021-03-31  The United States vs. Billie Holiday      13.354   \n",
       "25787   2021-03-31  The United States vs. Billie Holiday      13.354   \n",
       "25788   2021-03-31  The United States vs. Billie Holiday      13.354   \n",
       "25789   1984-09-23                               Threads      13.354   \n",
       "25790   1984-09-23                               Threads      13.354   \n",
       "25791   1984-09-23                               Threads      13.354   \n",
       "\n",
       "       Vote_Count  Vote_Average            Genre  Day  Month  Year  \n",
       "25786         152           6.7            Music   31      3  2021  \n",
       "25787         152           6.7            Drama   31      3  2021  \n",
       "25788         152           6.7          History   31      3  2021  \n",
       "25789         186           7.8              War   23      9  1984  \n",
       "25790         186           7.8            Drama   23      9  1984  \n",
       "25791         186           7.8  Science Fiction   23      9  1984  "
      ]
     },
     "execution_count": 44,
     "metadata": {},
     "output_type": "execute_result"
    }
   ],
   "source": [
    "df[df.loc[:,\"Popularity\"] == df.loc[:,\"Popularity\"].min()]"
   ]
  },
  {
   "cell_type": "code",
   "execution_count": 41,
   "id": "5e9225e5-89ee-4f15-aaf4-0b0f712f94d0",
   "metadata": {},
   "outputs": [
    {
     "data": {
      "text/html": [
       "<div>\n",
       "<style scoped>\n",
       "    .dataframe tbody tr th:only-of-type {\n",
       "        vertical-align: middle;\n",
       "    }\n",
       "\n",
       "    .dataframe tbody tr th {\n",
       "        vertical-align: top;\n",
       "    }\n",
       "\n",
       "    .dataframe thead th {\n",
       "        text-align: right;\n",
       "    }\n",
       "</style>\n",
       "<table border=\"1\" class=\"dataframe\">\n",
       "  <thead>\n",
       "    <tr style=\"text-align: right;\">\n",
       "      <th></th>\n",
       "      <th>Title</th>\n",
       "      <th>Genre</th>\n",
       "    </tr>\n",
       "  </thead>\n",
       "  <tbody>\n",
       "    <tr>\n",
       "      <th>25786</th>\n",
       "      <td>The United States vs. Billie Holiday</td>\n",
       "      <td>Music</td>\n",
       "    </tr>\n",
       "    <tr>\n",
       "      <th>25787</th>\n",
       "      <td>The United States vs. Billie Holiday</td>\n",
       "      <td>Drama</td>\n",
       "    </tr>\n",
       "    <tr>\n",
       "      <th>25788</th>\n",
       "      <td>The United States vs. Billie Holiday</td>\n",
       "      <td>History</td>\n",
       "    </tr>\n",
       "    <tr>\n",
       "      <th>25789</th>\n",
       "      <td>Threads</td>\n",
       "      <td>War</td>\n",
       "    </tr>\n",
       "    <tr>\n",
       "      <th>25790</th>\n",
       "      <td>Threads</td>\n",
       "      <td>Drama</td>\n",
       "    </tr>\n",
       "    <tr>\n",
       "      <th>25791</th>\n",
       "      <td>Threads</td>\n",
       "      <td>Science Fiction</td>\n",
       "    </tr>\n",
       "  </tbody>\n",
       "</table>\n",
       "</div>"
      ],
      "text/plain": [
       "                                      Title            Genre\n",
       "25786  The United States vs. Billie Holiday            Music\n",
       "25787  The United States vs. Billie Holiday            Drama\n",
       "25788  The United States vs. Billie Holiday          History\n",
       "25789                               Threads              War\n",
       "25790                               Threads            Drama\n",
       "25791                               Threads  Science Fiction"
      ]
     },
     "execution_count": 41,
     "metadata": {},
     "output_type": "execute_result"
    }
   ],
   "source": [
    "df[df.loc[:,\"Popularity\"] == df.loc[:,\"Popularity\"].min()][[\"Title\",\"Genre\"]]"
   ]
  },
  {
   "cell_type": "markdown",
   "id": "b5ad75f8-ffe9-460d-8a32-2a25c0c13d7d",
   "metadata": {},
   "source": [
    "- The United States vs. Billie Holiday and threads these 2 movies have lowest popularity\n",
    "- Movie \"The United States\" has Genre of Music, Drama and History\n",
    "- Movie \"The United States\" has Genre of War, Drama and Science Fiction"
   ]
  },
  {
   "cell_type": "markdown",
   "id": "6ccf19e3-98a3-404d-8d79-366fd299ada0",
   "metadata": {},
   "source": [
    "### <span style=\"color:red\"><b> Q5: Which year has the most filmmed movies?</b></span>"
   ]
  },
  {
   "cell_type": "code",
   "execution_count": 45,
   "id": "55b5eddb-18a2-4143-b3b9-6e07561220be",
   "metadata": {},
   "outputs": [
    {
     "data": {
      "text/plain": [
       "Index(['Release_Date', 'Title', 'Popularity', 'Vote_Count', 'Vote_Average',\n",
       "       'Genre', 'Day', 'Month', 'Year'],\n",
       "      dtype='object')"
      ]
     },
     "execution_count": 45,
     "metadata": {},
     "output_type": "execute_result"
    }
   ],
   "source": [
    "df.columns"
   ]
  },
  {
   "cell_type": "code",
   "execution_count": 53,
   "id": "c0a3b55d-d412-4683-8982-b37b0cc763af",
   "metadata": {},
   "outputs": [
    {
     "data": {
      "text/plain": [
       "Year\n",
       "2021    6.351\n",
       "2018    5.378\n",
       "2017    5.292\n",
       "2019    4.932\n",
       "2016    4.699\n",
       "        ...  \n",
       "2024    0.016\n",
       "1902    0.012\n",
       "1925    0.008\n",
       "1929    0.008\n",
       "1930    0.008\n",
       "Name: count, Length: 102, dtype: float64"
      ]
     },
     "execution_count": 53,
     "metadata": {},
     "output_type": "execute_result"
    }
   ],
   "source": [
    "np.round(df.loc[:,\"Year\"].value_counts() / df.loc[:,\"Year\"].value_counts().sum(),5) * 100"
   ]
  },
  {
   "cell_type": "markdown",
   "id": "d49df5d5-a421-48a4-8c44-c7a90f1a3055",
   "metadata": {},
   "source": [
    "- In year 2021 6.35% of movies out of total were released highest ever in a year"
   ]
  },
  {
   "cell_type": "markdown",
   "id": "81d514b8-ea93-48ed-a6db-f360c9b14b89",
   "metadata": {},
   "source": [
    "### <span style=\"color:red\"><b> Conclusion:</b></span>"
   ]
  },
  {
   "cell_type": "markdown",
   "id": "cf2389ec-a6cc-432b-b4d4-4c53caec2ba2",
   "metadata": {},
   "source": [
    "<b> Q1: What is the most frequent genre in the dataset?\n",
    "- Drama genre is the most frequent genre in our dataset and has appeared more than 14% of the times among 19 other genres. \n",
    "<br> <br> <b> Q2: What genres has highest votes ?\n",
    "- we have 25.5% of our dataset with popular vote (6520 rows). Drama again gets the\n",
    "highest popularity among fans by being having more than 18.5% of movies popularities.\n",
    "<br> <br> <b> Q3: What movie got the highest popularity ? what's its genre ?\n",
    "- Spider-Man: No Way Home has the highest popularity rate in our dataset and it has\n",
    "genres of Action , Adventure and Sience Fiction .\n",
    "<br> <br><b> Q4: What movie got the lowest popularity ? what's its genre ?\n",
    "- The united states, thread' has the highest lowest rate in our dataset\n",
    "and it has genres of music , drama , 'war', 'sci-fi' and history`.\n",
    "<br> <br><b> Q5: Which year has the most filmmed movies?\n",
    "- year 2020 has the highest filmming rate in our dataset"
   ]
  },
  {
   "cell_type": "markdown",
   "id": "68c54239-b874-4227-bc5d-858d9456abbb",
   "metadata": {},
   "source": [
    "### <span style=\"color:green\"><b> END:</b></span>"
   ]
  }
 ],
 "metadata": {
  "kernelspec": {
   "display_name": "Python 3 (ipykernel)",
   "language": "python",
   "name": "python3"
  },
  "language_info": {
   "codemirror_mode": {
    "name": "ipython",
    "version": 3
   },
   "file_extension": ".py",
   "mimetype": "text/x-python",
   "name": "python",
   "nbconvert_exporter": "python",
   "pygments_lexer": "ipython3",
   "version": "3.12.6"
  }
 },
 "nbformat": 4,
 "nbformat_minor": 5
}
